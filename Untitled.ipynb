{
 "cells": [
  {
   "cell_type": "code",
   "execution_count": 58,
   "metadata": {
    "collapsed": true
   },
   "outputs": [],
   "source": [
    "import pandas as pd\n",
    "import numpy as np\n",
    "from sklearn import preprocessing\n",
    "from sklearn import model_selection\n",
    "from datetime import datetime, timedelta\n",
    "\n",
    "pd.set_option('max_columns', None)\n",
    "pd.set_option('max_rows', 50)"
   ]
  },
  {
   "cell_type": "markdown",
   "metadata": {},
   "source": [
    "# Weather Data"
   ]
  },
  {
   "cell_type": "markdown",
   "metadata": {},
   "source": [
    "### Read Data from CSV"
   ]
  },
  {
   "cell_type": "code",
   "execution_count": 2,
   "metadata": {},
   "outputs": [
    {
     "name": "stderr",
     "output_type": "stream",
     "text": [
      "/Applications/anaconda3/lib/python3.6/site-packages/IPython/core/interactiveshell.py:2698: DtypeWarning: Columns (2,3,4,5,6,7,8,9,10,11,12,13,14,15,16,17,18,19,20,21,22,23,24,25,26,27,28,29,30,31,32,33,34,36,37,38,40,41) have mixed types. Specify dtype option on import or set low_memory=False.\n",
      "  interactivity=interactivity, compiler=compiler, result=result)\n"
     ]
    },
    {
     "data": {
      "text/html": [
       "<div>\n",
       "<style>\n",
       "    .dataframe thead tr:only-child th {\n",
       "        text-align: right;\n",
       "    }\n",
       "\n",
       "    .dataframe thead th {\n",
       "        text-align: left;\n",
       "    }\n",
       "\n",
       "    .dataframe tbody tr th {\n",
       "        vertical-align: top;\n",
       "    }\n",
       "</style>\n",
       "<table border=\"1\" class=\"dataframe\">\n",
       "  <thead>\n",
       "    <tr style=\"text-align: right;\">\n",
       "      <th></th>\n",
       "      <th>Station_ID</th>\n",
       "      <th>Date_Time</th>\n",
       "      <th>altimeter_set_1</th>\n",
       "      <th>air_temp_set_1</th>\n",
       "      <th>dew_point_temperature_set_1</th>\n",
       "      <th>relative_humidity_set_1</th>\n",
       "      <th>wind_speed_set_1</th>\n",
       "      <th>wind_direction_set_1</th>\n",
       "      <th>wind_gust_set_1</th>\n",
       "      <th>snow_depth_set_1</th>\n",
       "      <th>sea_level_pressure_set_1</th>\n",
       "      <th>weather_cond_code_set_1</th>\n",
       "      <th>cloud_layer_3_code_set_1</th>\n",
       "      <th>pressure_tendency_set_1</th>\n",
       "      <th>qc_set_1</th>\n",
       "      <th>precip_accum_one_hour_set_1</th>\n",
       "      <th>precip_accum_three_hour_set_1</th>\n",
       "      <th>metar_origin_set_1</th>\n",
       "      <th>cloud_layer_1_code_set_1</th>\n",
       "      <th>cloud_layer_2_code_set_1</th>\n",
       "      <th>precip_accum_six_hour_set_1</th>\n",
       "      <th>precip_accum_24_hour_set_1</th>\n",
       "      <th>visibility_set_1</th>\n",
       "      <th>metar_remark_set_1</th>\n",
       "      <th>metar_set_1</th>\n",
       "      <th>air_temp_high_6_hour_set_1</th>\n",
       "      <th>air_temp_low_6_hour_set_1</th>\n",
       "      <th>peak_wind_speed_set_1</th>\n",
       "      <th>ceiling_set_1</th>\n",
       "      <th>pressure_change_code_set_1</th>\n",
       "      <th>air_temp_high_24_hour_set_1</th>\n",
       "      <th>air_temp_low_24_hour_set_1</th>\n",
       "      <th>peak_wind_direction_set_1</th>\n",
       "      <th>dew_point_temperature_set_1d</th>\n",
       "      <th>wind_chill_set_1d</th>\n",
       "      <th>wind_cardinal_direction_set_1d</th>\n",
       "      <th>pressure_set_1d</th>\n",
       "      <th>sea_level_pressure_set_1d</th>\n",
       "      <th>heat_index_set_1d</th>\n",
       "      <th>weather_condition_set_1d</th>\n",
       "      <th>weather_condition_set_2d</th>\n",
       "      <th>weather_condition_set_3d</th>\n",
       "    </tr>\n",
       "  </thead>\n",
       "  <tbody>\n",
       "    <tr>\n",
       "      <th>0</th>\n",
       "      <td>NaN</td>\n",
       "      <td>NaN</td>\n",
       "      <td>INHG</td>\n",
       "      <td>Fahrenheit</td>\n",
       "      <td>Fahrenheit</td>\n",
       "      <td>%</td>\n",
       "      <td>knots</td>\n",
       "      <td>Degrees</td>\n",
       "      <td>knots</td>\n",
       "      <td>Inches</td>\n",
       "      <td>Millibars</td>\n",
       "      <td>code</td>\n",
       "      <td>code</td>\n",
       "      <td>code</td>\n",
       "      <td>code</td>\n",
       "      <td>Inches</td>\n",
       "      <td>Inches</td>\n",
       "      <td>code</td>\n",
       "      <td>code</td>\n",
       "      <td>code</td>\n",
       "      <td>Inches</td>\n",
       "      <td>Inches</td>\n",
       "      <td>Statute miles</td>\n",
       "      <td>text</td>\n",
       "      <td>text</td>\n",
       "      <td>Fahrenheit</td>\n",
       "      <td>Fahrenheit</td>\n",
       "      <td>knots</td>\n",
       "      <td>Feet</td>\n",
       "      <td>code</td>\n",
       "      <td>Fahrenheit</td>\n",
       "      <td>Fahrenheit</td>\n",
       "      <td>Degrees</td>\n",
       "      <td>Fahrenheit</td>\n",
       "      <td>Fahrenheit</td>\n",
       "      <td>Code</td>\n",
       "      <td>Millibars</td>\n",
       "      <td>Millibars</td>\n",
       "      <td>Fahrenheit</td>\n",
       "      <td>Code</td>\n",
       "      <td>NaN</td>\n",
       "      <td>NaN</td>\n",
       "    </tr>\n",
       "    <tr>\n",
       "      <th>1</th>\n",
       "      <td>KSLC</td>\n",
       "      <td>2016-01-01T00:00:00Z</td>\n",
       "      <td>30.45</td>\n",
       "      <td>12.02</td>\n",
       "      <td>6.08</td>\n",
       "      <td>76.51</td>\n",
       "      <td>9.0</td>\n",
       "      <td>360.0</td>\n",
       "      <td>NaN</td>\n",
       "      <td>NaN</td>\n",
       "      <td>NaN</td>\n",
       "      <td>NaN</td>\n",
       "      <td>NaN</td>\n",
       "      <td>NaN</td>\n",
       "      <td>NaN</td>\n",
       "      <td>NaN</td>\n",
       "      <td>NaN</td>\n",
       "      <td>NaN</td>\n",
       "      <td>1.0</td>\n",
       "      <td>NaN</td>\n",
       "      <td>NaN</td>\n",
       "      <td>NaN</td>\n",
       "      <td>9.0</td>\n",
       "      <td>NaN</td>\n",
       "      <td>NaN</td>\n",
       "      <td>NaN</td>\n",
       "      <td>NaN</td>\n",
       "      <td>NaN</td>\n",
       "      <td>NaN</td>\n",
       "      <td>NaN</td>\n",
       "      <td>NaN</td>\n",
       "      <td>NaN</td>\n",
       "      <td>NaN</td>\n",
       "      <td>5.98</td>\n",
       "      <td>2.9</td>\n",
       "      <td>N</td>\n",
       "      <td>883.05</td>\n",
       "      <td>1027.38</td>\n",
       "      <td>NaN</td>\n",
       "      <td>Clear</td>\n",
       "      <td>NaN</td>\n",
       "      <td>NaN</td>\n",
       "    </tr>\n",
       "    <tr>\n",
       "      <th>2</th>\n",
       "      <td>KSLC</td>\n",
       "      <td>2016-01-01T00:05:00Z</td>\n",
       "      <td>30.45</td>\n",
       "      <td>12.02</td>\n",
       "      <td>6.08</td>\n",
       "      <td>76.51</td>\n",
       "      <td>7.0</td>\n",
       "      <td>360.0</td>\n",
       "      <td>NaN</td>\n",
       "      <td>NaN</td>\n",
       "      <td>NaN</td>\n",
       "      <td>NaN</td>\n",
       "      <td>NaN</td>\n",
       "      <td>NaN</td>\n",
       "      <td>NaN</td>\n",
       "      <td>NaN</td>\n",
       "      <td>NaN</td>\n",
       "      <td>NaN</td>\n",
       "      <td>1.0</td>\n",
       "      <td>NaN</td>\n",
       "      <td>NaN</td>\n",
       "      <td>NaN</td>\n",
       "      <td>10.0</td>\n",
       "      <td>NaN</td>\n",
       "      <td>NaN</td>\n",
       "      <td>NaN</td>\n",
       "      <td>NaN</td>\n",
       "      <td>NaN</td>\n",
       "      <td>NaN</td>\n",
       "      <td>NaN</td>\n",
       "      <td>NaN</td>\n",
       "      <td>NaN</td>\n",
       "      <td>NaN</td>\n",
       "      <td>5.98</td>\n",
       "      <td>NaN</td>\n",
       "      <td>N</td>\n",
       "      <td>883.05</td>\n",
       "      <td>1027.38</td>\n",
       "      <td>NaN</td>\n",
       "      <td>Clear</td>\n",
       "      <td>NaN</td>\n",
       "      <td>NaN</td>\n",
       "    </tr>\n",
       "    <tr>\n",
       "      <th>3</th>\n",
       "      <td>KSLC</td>\n",
       "      <td>2016-01-01T00:10:00Z</td>\n",
       "      <td>30.45</td>\n",
       "      <td>12.02</td>\n",
       "      <td>6.08</td>\n",
       "      <td>76.51</td>\n",
       "      <td>7.0</td>\n",
       "      <td>360.0</td>\n",
       "      <td>NaN</td>\n",
       "      <td>NaN</td>\n",
       "      <td>NaN</td>\n",
       "      <td>NaN</td>\n",
       "      <td>NaN</td>\n",
       "      <td>NaN</td>\n",
       "      <td>NaN</td>\n",
       "      <td>NaN</td>\n",
       "      <td>NaN</td>\n",
       "      <td>NaN</td>\n",
       "      <td>1.0</td>\n",
       "      <td>NaN</td>\n",
       "      <td>NaN</td>\n",
       "      <td>NaN</td>\n",
       "      <td>10.0</td>\n",
       "      <td>NaN</td>\n",
       "      <td>NaN</td>\n",
       "      <td>NaN</td>\n",
       "      <td>NaN</td>\n",
       "      <td>NaN</td>\n",
       "      <td>NaN</td>\n",
       "      <td>NaN</td>\n",
       "      <td>NaN</td>\n",
       "      <td>NaN</td>\n",
       "      <td>NaN</td>\n",
       "      <td>5.98</td>\n",
       "      <td>NaN</td>\n",
       "      <td>N</td>\n",
       "      <td>883.05</td>\n",
       "      <td>1027.38</td>\n",
       "      <td>NaN</td>\n",
       "      <td>Clear</td>\n",
       "      <td>NaN</td>\n",
       "      <td>NaN</td>\n",
       "    </tr>\n",
       "    <tr>\n",
       "      <th>4</th>\n",
       "      <td>KSLC</td>\n",
       "      <td>2016-01-01T00:15:00Z</td>\n",
       "      <td>30.45</td>\n",
       "      <td>12.02</td>\n",
       "      <td>5.0</td>\n",
       "      <td>72.82</td>\n",
       "      <td>7.0</td>\n",
       "      <td>360.0</td>\n",
       "      <td>NaN</td>\n",
       "      <td>NaN</td>\n",
       "      <td>NaN</td>\n",
       "      <td>NaN</td>\n",
       "      <td>NaN</td>\n",
       "      <td>NaN</td>\n",
       "      <td>NaN</td>\n",
       "      <td>NaN</td>\n",
       "      <td>NaN</td>\n",
       "      <td>NaN</td>\n",
       "      <td>1.0</td>\n",
       "      <td>NaN</td>\n",
       "      <td>NaN</td>\n",
       "      <td>NaN</td>\n",
       "      <td>10.0</td>\n",
       "      <td>NaN</td>\n",
       "      <td>NaN</td>\n",
       "      <td>NaN</td>\n",
       "      <td>NaN</td>\n",
       "      <td>NaN</td>\n",
       "      <td>NaN</td>\n",
       "      <td>NaN</td>\n",
       "      <td>NaN</td>\n",
       "      <td>NaN</td>\n",
       "      <td>NaN</td>\n",
       "      <td>4.88</td>\n",
       "      <td>NaN</td>\n",
       "      <td>N</td>\n",
       "      <td>883.05</td>\n",
       "      <td>1027.41</td>\n",
       "      <td>NaN</td>\n",
       "      <td>Clear</td>\n",
       "      <td>NaN</td>\n",
       "      <td>NaN</td>\n",
       "    </tr>\n",
       "  </tbody>\n",
       "</table>\n",
       "</div>"
      ],
      "text/plain": [
       "  Station_ID             Date_Time altimeter_set_1 air_temp_set_1  \\\n",
       "0        NaN                   NaN            INHG     Fahrenheit   \n",
       "1       KSLC  2016-01-01T00:00:00Z           30.45          12.02   \n",
       "2       KSLC  2016-01-01T00:05:00Z           30.45          12.02   \n",
       "3       KSLC  2016-01-01T00:10:00Z           30.45          12.02   \n",
       "4       KSLC  2016-01-01T00:15:00Z           30.45          12.02   \n",
       "\n",
       "  dew_point_temperature_set_1 relative_humidity_set_1 wind_speed_set_1  \\\n",
       "0                  Fahrenheit                       %            knots   \n",
       "1                        6.08                   76.51              9.0   \n",
       "2                        6.08                   76.51              7.0   \n",
       "3                        6.08                   76.51              7.0   \n",
       "4                         5.0                   72.82              7.0   \n",
       "\n",
       "  wind_direction_set_1 wind_gust_set_1 snow_depth_set_1  \\\n",
       "0              Degrees           knots           Inches   \n",
       "1                360.0             NaN              NaN   \n",
       "2                360.0             NaN              NaN   \n",
       "3                360.0             NaN              NaN   \n",
       "4                360.0             NaN              NaN   \n",
       "\n",
       "  sea_level_pressure_set_1 weather_cond_code_set_1 cloud_layer_3_code_set_1  \\\n",
       "0                Millibars                    code                     code   \n",
       "1                      NaN                     NaN                      NaN   \n",
       "2                      NaN                     NaN                      NaN   \n",
       "3                      NaN                     NaN                      NaN   \n",
       "4                      NaN                     NaN                      NaN   \n",
       "\n",
       "  pressure_tendency_set_1 qc_set_1 precip_accum_one_hour_set_1  \\\n",
       "0                    code     code                      Inches   \n",
       "1                     NaN      NaN                         NaN   \n",
       "2                     NaN      NaN                         NaN   \n",
       "3                     NaN      NaN                         NaN   \n",
       "4                     NaN      NaN                         NaN   \n",
       "\n",
       "  precip_accum_three_hour_set_1 metar_origin_set_1 cloud_layer_1_code_set_1  \\\n",
       "0                        Inches               code                     code   \n",
       "1                           NaN                NaN                      1.0   \n",
       "2                           NaN                NaN                      1.0   \n",
       "3                           NaN                NaN                      1.0   \n",
       "4                           NaN                NaN                      1.0   \n",
       "\n",
       "  cloud_layer_2_code_set_1 precip_accum_six_hour_set_1  \\\n",
       "0                     code                      Inches   \n",
       "1                      NaN                         NaN   \n",
       "2                      NaN                         NaN   \n",
       "3                      NaN                         NaN   \n",
       "4                      NaN                         NaN   \n",
       "\n",
       "  precip_accum_24_hour_set_1 visibility_set_1 metar_remark_set_1 metar_set_1  \\\n",
       "0                     Inches    Statute miles               text        text   \n",
       "1                        NaN              9.0                NaN         NaN   \n",
       "2                        NaN             10.0                NaN         NaN   \n",
       "3                        NaN             10.0                NaN         NaN   \n",
       "4                        NaN             10.0                NaN         NaN   \n",
       "\n",
       "  air_temp_high_6_hour_set_1 air_temp_low_6_hour_set_1 peak_wind_speed_set_1  \\\n",
       "0                 Fahrenheit                Fahrenheit                 knots   \n",
       "1                        NaN                       NaN                   NaN   \n",
       "2                        NaN                       NaN                   NaN   \n",
       "3                        NaN                       NaN                   NaN   \n",
       "4                        NaN                       NaN                   NaN   \n",
       "\n",
       "  ceiling_set_1 pressure_change_code_set_1 air_temp_high_24_hour_set_1  \\\n",
       "0          Feet                       code                  Fahrenheit   \n",
       "1           NaN                        NaN                         NaN   \n",
       "2           NaN                        NaN                         NaN   \n",
       "3           NaN                        NaN                         NaN   \n",
       "4           NaN                        NaN                         NaN   \n",
       "\n",
       "  air_temp_low_24_hour_set_1 peak_wind_direction_set_1  \\\n",
       "0                 Fahrenheit                   Degrees   \n",
       "1                        NaN                       NaN   \n",
       "2                        NaN                       NaN   \n",
       "3                        NaN                       NaN   \n",
       "4                        NaN                       NaN   \n",
       "\n",
       "  dew_point_temperature_set_1d wind_chill_set_1d  \\\n",
       "0                   Fahrenheit        Fahrenheit   \n",
       "1                         5.98               2.9   \n",
       "2                         5.98               NaN   \n",
       "3                         5.98               NaN   \n",
       "4                         4.88               NaN   \n",
       "\n",
       "  wind_cardinal_direction_set_1d pressure_set_1d sea_level_pressure_set_1d  \\\n",
       "0                           Code       Millibars                 Millibars   \n",
       "1                              N          883.05                   1027.38   \n",
       "2                              N          883.05                   1027.38   \n",
       "3                              N          883.05                   1027.38   \n",
       "4                              N          883.05                   1027.41   \n",
       "\n",
       "  heat_index_set_1d weather_condition_set_1d weather_condition_set_2d  \\\n",
       "0        Fahrenheit                     Code                      NaN   \n",
       "1               NaN                    Clear                      NaN   \n",
       "2               NaN                    Clear                      NaN   \n",
       "3               NaN                    Clear                      NaN   \n",
       "4               NaN                    Clear                      NaN   \n",
       "\n",
       "  weather_condition_set_3d  \n",
       "0                      NaN  \n",
       "1                      NaN  \n",
       "2                      NaN  \n",
       "3                      NaN  \n",
       "4                      NaN  "
      ]
     },
     "execution_count": 2,
     "metadata": {},
     "output_type": "execute_result"
    }
   ],
   "source": [
    "raw = pd.read_csv('wxkslc.csv')\n",
    "raw.head()"
   ]
  },
  {
   "cell_type": "markdown",
   "metadata": {},
   "source": [
    "### Select Relevant Features"
   ]
  },
  {
   "cell_type": "code",
   "execution_count": 3,
   "metadata": {
    "collapsed": true
   },
   "outputs": [],
   "source": [
    "selectCol = raw[['Date_Time','air_temp_set_1','dew_point_temperature_set_1d',\n",
    "                 'wind_speed_set_1','wind_direction_set_1','wind_gust_set_1',\n",
    "                 'snow_depth_set_1','cloud_layer_1_code_set_1',\n",
    "                 'cloud_layer_2_code_set_1','cloud_layer_3_code_set_1',\n",
    "                 'visibility_set_1','ceiling_set_1','weather_condition_set_1d',\n",
    "                 'weather_condition_set_2d','weather_condition_set_3d']]"
   ]
  },
  {
   "cell_type": "code",
   "execution_count": 4,
   "metadata": {
    "collapsed": true
   },
   "outputs": [],
   "source": [
    "selectRow = selectCol.iloc[1:]"
   ]
  },
  {
   "cell_type": "markdown",
   "metadata": {},
   "source": [
    "### Dealing with Missing Values"
   ]
  },
  {
   "cell_type": "markdown",
   "metadata": {},
   "source": [
    "First take a look at the rows with most values missing and the missing value rate for each feature."
   ]
  },
  {
   "cell_type": "code",
   "execution_count": 5,
   "metadata": {
    "collapsed": true
   },
   "outputs": [],
   "source": [
    "#rows with most features missing\n",
    "mostNaN = selectRow.loc[selectRow.apply(lambda x:x.isnull().sum()>=12, axis=1)]"
   ]
  },
  {
   "cell_type": "code",
   "execution_count": 6,
   "metadata": {},
   "outputs": [
    {
     "data": {
      "text/plain": [
       "Date_Time                       0.000000\n",
       "air_temp_set_1                  0.000805\n",
       "dew_point_temperature_set_1d    0.000805\n",
       "wind_speed_set_1                0.005159\n",
       "wind_direction_set_1            0.017921\n",
       "wind_gust_set_1                 0.924559\n",
       "snow_depth_set_1                0.996531\n",
       "cloud_layer_1_code_set_1        0.007405\n",
       "cloud_layer_2_code_set_1        0.781717\n",
       "cloud_layer_3_code_set_1        0.905902\n",
       "visibility_set_1                0.001004\n",
       "ceiling_set_1                   0.691088\n",
       "weather_condition_set_1d        0.007415\n",
       "weather_condition_set_2d        0.973809\n",
       "weather_condition_set_3d        0.998549\n",
       "dtype: float64"
      ]
     },
     "execution_count": 6,
     "metadata": {},
     "output_type": "execute_result"
    }
   ],
   "source": [
    "#missing value rate\n",
    "selectRow.apply(lambda x: x.isnull().sum()/x.size, axis=0)"
   ]
  },
  {
   "cell_type": "markdown",
   "metadata": {},
   "source": [
    "For feature 'Date_Time', there are no missing values."
   ]
  },
  {
   "cell_type": "code",
   "execution_count": 7,
   "metadata": {
    "collapsed": true
   },
   "outputs": [],
   "source": [
    "perfect = selectRow['Date_Time']"
   ]
  },
  {
   "cell_type": "markdown",
   "metadata": {},
   "source": [
    "For features that have values in most of the rows, use the strategy that replacing the missing value with the last valid observation in the time serie."
   ]
  },
  {
   "cell_type": "code",
   "execution_count": 8,
   "metadata": {
    "collapsed": true
   },
   "outputs": [],
   "source": [
    "common_raw = selectRow[['air_temp_set_1','dew_point_temperature_set_1d','wind_speed_set_1',\n",
    "                        'wind_direction_set_1','cloud_layer_1_code_set_1','visibility_set_1',\n",
    "                        'weather_condition_set_1d']]\n",
    "common = common_raw.fillna(method='ffill')"
   ]
  },
  {
   "cell_type": "code",
   "execution_count": 9,
   "metadata": {
    "collapsed": true
   },
   "outputs": [],
   "source": [
    "common1 = common.iloc[:,0:-1]"
   ]
  },
  {
   "cell_type": "code",
   "execution_count": 10,
   "metadata": {
    "collapsed": true
   },
   "outputs": [],
   "source": [
    "common2 = common.iloc[:,-1]"
   ]
  },
  {
   "cell_type": "markdown",
   "metadata": {},
   "source": [
    "For features that miss values in most of the rows, use different strategy respectively."
   ]
  },
  {
   "cell_type": "code",
   "execution_count": 11,
   "metadata": {
    "collapsed": true
   },
   "outputs": [],
   "source": [
    "rare = selectRow[['wind_gust_set_1','snow_depth_set_1','cloud_layer_2_code_set_1',\n",
    "                  'cloud_layer_3_code_set_1','ceiling_set_1','weather_condition_set_2d',\n",
    "                  'weather_condition_set_3d']]"
   ]
  },
  {
   "cell_type": "markdown",
   "metadata": {},
   "source": [
    "For Wind Gust and Snow Depth, replace with 0. "
   ]
  },
  {
   "cell_type": "code",
   "execution_count": 12,
   "metadata": {},
   "outputs": [],
   "source": [
    "rare1 = rare[['wind_gust_set_1','snow_depth_set_1']].fillna(0)"
   ]
  },
  {
   "cell_type": "markdown",
   "metadata": {},
   "source": [
    "For Cloud, replace with mode 1.0 (which means clear sky)."
   ]
  },
  {
   "cell_type": "code",
   "execution_count": 13,
   "metadata": {},
   "outputs": [
    {
     "data": {
      "text/plain": [
       "2506.0"
      ]
     },
     "execution_count": 13,
     "metadata": {},
     "output_type": "execute_result"
    }
   ],
   "source": [
    "pd.to_numeric(common['cloud_layer_1_code_set_1']).max()"
   ]
  },
  {
   "cell_type": "code",
   "execution_count": 14,
   "metadata": {},
   "outputs": [
    {
     "data": {
      "text/plain": [
       "2806.0"
      ]
     },
     "execution_count": 14,
     "metadata": {},
     "output_type": "execute_result"
    }
   ],
   "source": [
    "pd.to_numeric(rare['cloud_layer_2_code_set_1']).max()"
   ]
  },
  {
   "cell_type": "code",
   "execution_count": 15,
   "metadata": {},
   "outputs": [
    {
     "data": {
      "text/plain": [
       "2803.0"
      ]
     },
     "execution_count": 15,
     "metadata": {},
     "output_type": "execute_result"
    }
   ],
   "source": [
    "pd.to_numeric(rare['cloud_layer_3_code_set_1']).max()"
   ]
  },
  {
   "cell_type": "code",
   "execution_count": 16,
   "metadata": {
    "collapsed": true
   },
   "outputs": [],
   "source": [
    "rare2 = rare[['cloud_layer_2_code_set_1','cloud_layer_3_code_set_1']].fillna(1.0)"
   ]
  },
  {
   "cell_type": "markdown",
   "metadata": {},
   "source": [
    "For Ceiling, replace with a large number which is greater than the maximum."
   ]
  },
  {
   "cell_type": "code",
   "execution_count": 17,
   "metadata": {},
   "outputs": [
    {
     "data": {
      "text/plain": [
       "28000.0"
      ]
     },
     "execution_count": 17,
     "metadata": {},
     "output_type": "execute_result"
    }
   ],
   "source": [
    "pd.to_numeric(rare['ceiling_set_1']).max()"
   ]
  },
  {
   "cell_type": "code",
   "execution_count": 18,
   "metadata": {
    "collapsed": true
   },
   "outputs": [],
   "source": [
    "rare3 = rare[['ceiling_set_1']].fillna(50000)"
   ]
  },
  {
   "cell_type": "markdown",
   "metadata": {},
   "source": [
    "For Weather Condition, do nothing."
   ]
  },
  {
   "cell_type": "code",
   "execution_count": 19,
   "metadata": {
    "collapsed": true
   },
   "outputs": [],
   "source": [
    "rare4 = rare[['weather_condition_set_2d','weather_condition_set_3d']]"
   ]
  },
  {
   "cell_type": "markdown",
   "metadata": {},
   "source": [
    "### Feature Encoding "
   ]
  },
  {
   "cell_type": "markdown",
   "metadata": {},
   "source": [
    "Change date and time features to DateTime format."
   ]
  },
  {
   "cell_type": "code",
   "execution_count": 20,
   "metadata": {},
   "outputs": [],
   "source": [
    "perfect_dt = perfect.apply(lambda x:datetime.strptime(x,'%Y-%m-%dT%H:%M:%SZ'))"
   ]
  },
  {
   "cell_type": "markdown",
   "metadata": {},
   "source": [
    "Change numeric features to float format."
   ]
  },
  {
   "cell_type": "code",
   "execution_count": 21,
   "metadata": {
    "collapsed": true
   },
   "outputs": [],
   "source": [
    "common1_num = common1.apply(pd.to_numeric, errors='raise')"
   ]
  },
  {
   "cell_type": "code",
   "execution_count": 22,
   "metadata": {
    "collapsed": true
   },
   "outputs": [],
   "source": [
    "rare1_num = rare1.apply(pd.to_numeric, errors='raise')"
   ]
  },
  {
   "cell_type": "code",
   "execution_count": 23,
   "metadata": {
    "collapsed": true
   },
   "outputs": [],
   "source": [
    "rare2_num = rare2.apply(pd.to_numeric, errors='raise')"
   ]
  },
  {
   "cell_type": "code",
   "execution_count": 24,
   "metadata": {
    "collapsed": true
   },
   "outputs": [],
   "source": [
    "rare3_num = rare3.apply(pd.to_numeric, errors='raise')"
   ]
  },
  {
   "cell_type": "markdown",
   "metadata": {},
   "source": [
    "Deal with categorical feature 'Weather Condition'."
   ]
  },
  {
   "cell_type": "code",
   "execution_count": 25,
   "metadata": {},
   "outputs": [],
   "source": [
    "wx_cond_set1 = set(common2.unique())"
   ]
  },
  {
   "cell_type": "code",
   "execution_count": 26,
   "metadata": {},
   "outputs": [],
   "source": [
    "wx_cond_set2 = set(rare4.iloc[:,0].unique())"
   ]
  },
  {
   "cell_type": "code",
   "execution_count": 27,
   "metadata": {},
   "outputs": [],
   "source": [
    "wx_cond_set3 = set(rare4.iloc[:,1].unique())"
   ]
  },
  {
   "cell_type": "code",
   "execution_count": 28,
   "metadata": {},
   "outputs": [],
   "source": [
    "wx_bin = pd.get_dummies(common2)"
   ]
  },
  {
   "cell_type": "code",
   "execution_count": 29,
   "metadata": {},
   "outputs": [],
   "source": [
    "wx_bin2 = pd.get_dummies(rare4)"
   ]
  },
  {
   "cell_type": "code",
   "execution_count": 30,
   "metadata": {
    "collapsed": true
   },
   "outputs": [],
   "source": [
    "wx_bin['Light Snow Shower'] = wx_bin2['weather_condition_set_2d_Light Snow Shower']"
   ]
  },
  {
   "cell_type": "code",
   "execution_count": 31,
   "metadata": {},
   "outputs": [],
   "source": [
    "for wx in wx_cond_set2:\n",
    "    name = str(wx)\n",
    "    if(name == 'nan'):\n",
    "        continue\n",
    "    wx_bin[name] = wx_bin[name] | wx_bin2['weather_condition_set_2d_'+name]\n",
    "\n",
    "for wx in wx_cond_set3:\n",
    "    name = str(wx)\n",
    "    if(name == 'nan'):\n",
    "        continue\n",
    "    wx_bin[name] = wx_bin[name] | wx_bin2['weather_condition_set_3d_'+name]"
   ]
  },
  {
   "cell_type": "code",
   "execution_count": 32,
   "metadata": {},
   "outputs": [
    {
     "data": {
      "text/html": [
       "<div>\n",
       "<style>\n",
       "    .dataframe thead tr:only-child th {\n",
       "        text-align: right;\n",
       "    }\n",
       "\n",
       "    .dataframe thead th {\n",
       "        text-align: left;\n",
       "    }\n",
       "\n",
       "    .dataframe tbody tr th {\n",
       "        vertical-align: top;\n",
       "    }\n",
       "</style>\n",
       "<table border=\"1\" class=\"dataframe\">\n",
       "  <thead>\n",
       "    <tr style=\"text-align: right;\">\n",
       "      <th></th>\n",
       "      <th>Blowing Dust</th>\n",
       "      <th>Blowing Snow</th>\n",
       "      <th>Clear</th>\n",
       "      <th>Fog</th>\n",
       "      <th>Frz Rain</th>\n",
       "      <th>Hail</th>\n",
       "      <th>Haze</th>\n",
       "      <th>Heavy Rain</th>\n",
       "      <th>Heavy Rain/Thunderstorm</th>\n",
       "      <th>Heavy Snow</th>\n",
       "      <th>Ice Fog</th>\n",
       "      <th>Ice pellets</th>\n",
       "      <th>Light Frz Rain</th>\n",
       "      <th>Light Ice Pellets</th>\n",
       "      <th>Light Rain</th>\n",
       "      <th>Light Rain/Thunderstorm</th>\n",
       "      <th>Light Snow</th>\n",
       "      <th>Light Snow Pellets</th>\n",
       "      <th>Mostly Clear</th>\n",
       "      <th>Mostly Cloudy</th>\n",
       "      <th>Overcast</th>\n",
       "      <th>Partly Cloudy</th>\n",
       "      <th>Rain</th>\n",
       "      <th>Snow</th>\n",
       "      <th>Snow Pellets</th>\n",
       "      <th>Squalls</th>\n",
       "      <th>Thunder</th>\n",
       "      <th>Thunderstorm</th>\n",
       "      <th>Unknown Precip</th>\n",
       "      <th>Light Snow Shower</th>\n",
       "    </tr>\n",
       "  </thead>\n",
       "  <tbody>\n",
       "    <tr>\n",
       "      <th>1</th>\n",
       "      <td>0</td>\n",
       "      <td>0</td>\n",
       "      <td>1</td>\n",
       "      <td>0</td>\n",
       "      <td>0</td>\n",
       "      <td>0</td>\n",
       "      <td>0</td>\n",
       "      <td>0</td>\n",
       "      <td>0</td>\n",
       "      <td>0</td>\n",
       "      <td>0</td>\n",
       "      <td>0</td>\n",
       "      <td>0</td>\n",
       "      <td>0</td>\n",
       "      <td>0</td>\n",
       "      <td>0</td>\n",
       "      <td>0</td>\n",
       "      <td>0</td>\n",
       "      <td>0</td>\n",
       "      <td>0</td>\n",
       "      <td>0</td>\n",
       "      <td>0</td>\n",
       "      <td>0</td>\n",
       "      <td>0</td>\n",
       "      <td>0</td>\n",
       "      <td>0</td>\n",
       "      <td>0</td>\n",
       "      <td>0</td>\n",
       "      <td>0</td>\n",
       "      <td>0</td>\n",
       "    </tr>\n",
       "    <tr>\n",
       "      <th>2</th>\n",
       "      <td>0</td>\n",
       "      <td>0</td>\n",
       "      <td>1</td>\n",
       "      <td>0</td>\n",
       "      <td>0</td>\n",
       "      <td>0</td>\n",
       "      <td>0</td>\n",
       "      <td>0</td>\n",
       "      <td>0</td>\n",
       "      <td>0</td>\n",
       "      <td>0</td>\n",
       "      <td>0</td>\n",
       "      <td>0</td>\n",
       "      <td>0</td>\n",
       "      <td>0</td>\n",
       "      <td>0</td>\n",
       "      <td>0</td>\n",
       "      <td>0</td>\n",
       "      <td>0</td>\n",
       "      <td>0</td>\n",
       "      <td>0</td>\n",
       "      <td>0</td>\n",
       "      <td>0</td>\n",
       "      <td>0</td>\n",
       "      <td>0</td>\n",
       "      <td>0</td>\n",
       "      <td>0</td>\n",
       "      <td>0</td>\n",
       "      <td>0</td>\n",
       "      <td>0</td>\n",
       "    </tr>\n",
       "    <tr>\n",
       "      <th>3</th>\n",
       "      <td>0</td>\n",
       "      <td>0</td>\n",
       "      <td>1</td>\n",
       "      <td>0</td>\n",
       "      <td>0</td>\n",
       "      <td>0</td>\n",
       "      <td>0</td>\n",
       "      <td>0</td>\n",
       "      <td>0</td>\n",
       "      <td>0</td>\n",
       "      <td>0</td>\n",
       "      <td>0</td>\n",
       "      <td>0</td>\n",
       "      <td>0</td>\n",
       "      <td>0</td>\n",
       "      <td>0</td>\n",
       "      <td>0</td>\n",
       "      <td>0</td>\n",
       "      <td>0</td>\n",
       "      <td>0</td>\n",
       "      <td>0</td>\n",
       "      <td>0</td>\n",
       "      <td>0</td>\n",
       "      <td>0</td>\n",
       "      <td>0</td>\n",
       "      <td>0</td>\n",
       "      <td>0</td>\n",
       "      <td>0</td>\n",
       "      <td>0</td>\n",
       "      <td>0</td>\n",
       "    </tr>\n",
       "    <tr>\n",
       "      <th>4</th>\n",
       "      <td>0</td>\n",
       "      <td>0</td>\n",
       "      <td>1</td>\n",
       "      <td>0</td>\n",
       "      <td>0</td>\n",
       "      <td>0</td>\n",
       "      <td>0</td>\n",
       "      <td>0</td>\n",
       "      <td>0</td>\n",
       "      <td>0</td>\n",
       "      <td>0</td>\n",
       "      <td>0</td>\n",
       "      <td>0</td>\n",
       "      <td>0</td>\n",
       "      <td>0</td>\n",
       "      <td>0</td>\n",
       "      <td>0</td>\n",
       "      <td>0</td>\n",
       "      <td>0</td>\n",
       "      <td>0</td>\n",
       "      <td>0</td>\n",
       "      <td>0</td>\n",
       "      <td>0</td>\n",
       "      <td>0</td>\n",
       "      <td>0</td>\n",
       "      <td>0</td>\n",
       "      <td>0</td>\n",
       "      <td>0</td>\n",
       "      <td>0</td>\n",
       "      <td>0</td>\n",
       "    </tr>\n",
       "    <tr>\n",
       "      <th>5</th>\n",
       "      <td>0</td>\n",
       "      <td>0</td>\n",
       "      <td>1</td>\n",
       "      <td>0</td>\n",
       "      <td>0</td>\n",
       "      <td>0</td>\n",
       "      <td>0</td>\n",
       "      <td>0</td>\n",
       "      <td>0</td>\n",
       "      <td>0</td>\n",
       "      <td>0</td>\n",
       "      <td>0</td>\n",
       "      <td>0</td>\n",
       "      <td>0</td>\n",
       "      <td>0</td>\n",
       "      <td>0</td>\n",
       "      <td>0</td>\n",
       "      <td>0</td>\n",
       "      <td>0</td>\n",
       "      <td>0</td>\n",
       "      <td>0</td>\n",
       "      <td>0</td>\n",
       "      <td>0</td>\n",
       "      <td>0</td>\n",
       "      <td>0</td>\n",
       "      <td>0</td>\n",
       "      <td>0</td>\n",
       "      <td>0</td>\n",
       "      <td>0</td>\n",
       "      <td>0</td>\n",
       "    </tr>\n",
       "  </tbody>\n",
       "</table>\n",
       "</div>"
      ],
      "text/plain": [
       "   Blowing Dust  Blowing Snow  Clear  Fog  Frz Rain  Hail  Haze  Heavy Rain  \\\n",
       "1             0             0      1    0         0     0     0           0   \n",
       "2             0             0      1    0         0     0     0           0   \n",
       "3             0             0      1    0         0     0     0           0   \n",
       "4             0             0      1    0         0     0     0           0   \n",
       "5             0             0      1    0         0     0     0           0   \n",
       "\n",
       "   Heavy Rain/Thunderstorm  Heavy Snow  Ice Fog  Ice pellets  Light Frz Rain  \\\n",
       "1                        0           0        0            0               0   \n",
       "2                        0           0        0            0               0   \n",
       "3                        0           0        0            0               0   \n",
       "4                        0           0        0            0               0   \n",
       "5                        0           0        0            0               0   \n",
       "\n",
       "   Light Ice Pellets  Light Rain  Light Rain/Thunderstorm  Light Snow  \\\n",
       "1                  0           0                        0           0   \n",
       "2                  0           0                        0           0   \n",
       "3                  0           0                        0           0   \n",
       "4                  0           0                        0           0   \n",
       "5                  0           0                        0           0   \n",
       "\n",
       "   Light Snow Pellets  Mostly Clear  Mostly Cloudy  Overcast  Partly Cloudy  \\\n",
       "1                   0             0              0         0              0   \n",
       "2                   0             0              0         0              0   \n",
       "3                   0             0              0         0              0   \n",
       "4                   0             0              0         0              0   \n",
       "5                   0             0              0         0              0   \n",
       "\n",
       "   Rain  Snow  Snow Pellets  Squalls  Thunder  Thunderstorm  Unknown Precip  \\\n",
       "1     0     0             0        0        0             0               0   \n",
       "2     0     0             0        0        0             0               0   \n",
       "3     0     0             0        0        0             0               0   \n",
       "4     0     0             0        0        0             0               0   \n",
       "5     0     0             0        0        0             0               0   \n",
       "\n",
       "   Light Snow Shower  \n",
       "1                  0  \n",
       "2                  0  \n",
       "3                  0  \n",
       "4                  0  \n",
       "5                  0  "
      ]
     },
     "execution_count": 32,
     "metadata": {},
     "output_type": "execute_result"
    }
   ],
   "source": [
    "wx_bin.head()"
   ]
  },
  {
   "cell_type": "markdown",
   "metadata": {},
   "source": [
    "### Concatenate Together "
   ]
  },
  {
   "cell_type": "code",
   "execution_count": 33,
   "metadata": {},
   "outputs": [],
   "source": [
    "wx = pd.concat([perfect_dt, common1_num, rare1_num, rare2_num, rare3_num, wx_bin], axis=1)"
   ]
  },
  {
   "cell_type": "markdown",
   "metadata": {},
   "source": [
    "# Flight Data"
   ]
  },
  {
   "cell_type": "markdown",
   "metadata": {},
   "source": [
    "### Read Data from CSV"
   ]
  },
  {
   "cell_type": "code",
   "execution_count": 34,
   "metadata": {},
   "outputs": [
    {
     "name": "stderr",
     "output_type": "stream",
     "text": [
      "/Applications/anaconda3/lib/python3.6/site-packages/IPython/core/interactiveshell.py:2698: DtypeWarning: Columns (78,85) have mixed types. Specify dtype option on import or set low_memory=False.\n",
      "  interactivity=interactivity, compiler=compiler, result=result)\n"
     ]
    }
   ],
   "source": [
    "to_raw = pd.read_csv('toslc.csv', index_col=0)"
   ]
  },
  {
   "cell_type": "markdown",
   "metadata": {},
   "source": [
    "### Select Relevant Features"
   ]
  },
  {
   "cell_type": "code",
   "execution_count": 35,
   "metadata": {},
   "outputs": [],
   "source": [
    "to_select = to_raw[['Month','DayofMonth','DayOfWeek','AirlineID','TailNum','FlightNum',\n",
    "                    'OriginAirportID','CRSDepTime','FlightDate','CRSArrTime','Distance',\n",
    "                    'ArrDel15']]"
   ]
  },
  {
   "cell_type": "markdown",
   "metadata": {},
   "source": [
    "### Drop Missing Values"
   ]
  },
  {
   "cell_type": "code",
   "execution_count": 36,
   "metadata": {},
   "outputs": [],
   "source": [
    "to = to_select.dropna(axis=0, how='any')"
   ]
  },
  {
   "cell_type": "markdown",
   "metadata": {},
   "source": [
    "### Feature Encoding "
   ]
  },
  {
   "cell_type": "markdown",
   "metadata": {},
   "source": [
    "Change circraft tail number to numberic."
   ]
  },
  {
   "cell_type": "code",
   "execution_count": 37,
   "metadata": {},
   "outputs": [],
   "source": [
    "le = preprocessing.LabelEncoder()\n",
    "code = le.fit_transform(to['TailNum'])"
   ]
  },
  {
   "cell_type": "code",
   "execution_count": 38,
   "metadata": {},
   "outputs": [
    {
     "name": "stderr",
     "output_type": "stream",
     "text": [
      "/Applications/anaconda3/lib/python3.6/site-packages/ipykernel_launcher.py:1: SettingWithCopyWarning: \n",
      "A value is trying to be set on a copy of a slice from a DataFrame.\n",
      "Try using .loc[row_indexer,col_indexer] = value instead\n",
      "\n",
      "See the caveats in the documentation: http://pandas.pydata.org/pandas-docs/stable/indexing.html#indexing-view-versus-copy\n",
      "  \"\"\"Entry point for launching an IPython kernel.\n"
     ]
    }
   ],
   "source": [
    "to['TailNum'] = code"
   ]
  },
  {
   "cell_type": "markdown",
   "metadata": {},
   "source": [
    "Convert departure time and arriving time to 4-digit string."
   ]
  },
  {
   "cell_type": "code",
   "execution_count": 39,
   "metadata": {},
   "outputs": [
    {
     "name": "stderr",
     "output_type": "stream",
     "text": [
      "/Applications/anaconda3/lib/python3.6/site-packages/ipykernel_launcher.py:1: SettingWithCopyWarning: \n",
      "A value is trying to be set on a copy of a slice from a DataFrame.\n",
      "Try using .loc[row_indexer,col_indexer] = value instead\n",
      "\n",
      "See the caveats in the documentation: http://pandas.pydata.org/pandas-docs/stable/indexing.html#indexing-view-versus-copy\n",
      "  \"\"\"Entry point for launching an IPython kernel.\n",
      "/Applications/anaconda3/lib/python3.6/site-packages/ipykernel_launcher.py:2: SettingWithCopyWarning: \n",
      "A value is trying to be set on a copy of a slice from a DataFrame.\n",
      "Try using .loc[row_indexer,col_indexer] = value instead\n",
      "\n",
      "See the caveats in the documentation: http://pandas.pydata.org/pandas-docs/stable/indexing.html#indexing-view-versus-copy\n",
      "  \n"
     ]
    }
   ],
   "source": [
    "to['CRSDepTime'] = to['CRSDepTime'].apply(lambda x:str(x).zfill(4))\n",
    "to['CRSArrTime'] = to['CRSArrTime'].apply(lambda x:str(x).zfill(4))"
   ]
  },
  {
   "cell_type": "markdown",
   "metadata": {},
   "source": [
    "Create another feature \"DateTime\" by concatenating flight date and arring time for joining with weather data."
   ]
  },
  {
   "cell_type": "code",
   "execution_count": 40,
   "metadata": {},
   "outputs": [
    {
     "name": "stderr",
     "output_type": "stream",
     "text": [
      "/Applications/anaconda3/lib/python3.6/site-packages/ipykernel_launcher.py:1: SettingWithCopyWarning: \n",
      "A value is trying to be set on a copy of a slice from a DataFrame.\n",
      "Try using .loc[row_indexer,col_indexer] = value instead\n",
      "\n",
      "See the caveats in the documentation: http://pandas.pydata.org/pandas-docs/stable/indexing.html#indexing-view-versus-copy\n",
      "  \"\"\"Entry point for launching an IPython kernel.\n",
      "/Applications/anaconda3/lib/python3.6/site-packages/ipykernel_launcher.py:2: SettingWithCopyWarning: \n",
      "A value is trying to be set on a copy of a slice from a DataFrame\n",
      "\n",
      "See the caveats in the documentation: http://pandas.pydata.org/pandas-docs/stable/indexing.html#indexing-view-versus-copy\n",
      "  \n"
     ]
    }
   ],
   "source": [
    "to['DateTime'] = to['FlightDate'].astype(str)+'T'+to['CRSArrTime'].astype(str)\n",
    "to.drop('FlightDate', axis=1, inplace=True)"
   ]
  },
  {
   "cell_type": "code",
   "execution_count": 41,
   "metadata": {},
   "outputs": [
    {
     "name": "stderr",
     "output_type": "stream",
     "text": [
      "/Applications/anaconda3/lib/python3.6/site-packages/ipykernel_launcher.py:1: SettingWithCopyWarning: \n",
      "A value is trying to be set on a copy of a slice from a DataFrame.\n",
      "Try using .loc[row_indexer,col_indexer] = value instead\n",
      "\n",
      "See the caveats in the documentation: http://pandas.pydata.org/pandas-docs/stable/indexing.html#indexing-view-versus-copy\n",
      "  \"\"\"Entry point for launching an IPython kernel.\n"
     ]
    }
   ],
   "source": [
    "to['DateTime'] = to['DateTime'].apply(lambda x:datetime.strptime(x, '%Y-%m-%dT%H%M'))"
   ]
  },
  {
   "cell_type": "markdown",
   "metadata": {},
   "source": [
    "Convert departure time and arriving time to numeric."
   ]
  },
  {
   "cell_type": "code",
   "execution_count": 42,
   "metadata": {},
   "outputs": [
    {
     "name": "stderr",
     "output_type": "stream",
     "text": [
      "/Applications/anaconda3/lib/python3.6/site-packages/ipykernel_launcher.py:1: SettingWithCopyWarning: \n",
      "A value is trying to be set on a copy of a slice from a DataFrame.\n",
      "Try using .loc[row_indexer,col_indexer] = value instead\n",
      "\n",
      "See the caveats in the documentation: http://pandas.pydata.org/pandas-docs/stable/indexing.html#indexing-view-versus-copy\n",
      "  \"\"\"Entry point for launching an IPython kernel.\n",
      "/Applications/anaconda3/lib/python3.6/site-packages/ipykernel_launcher.py:2: SettingWithCopyWarning: \n",
      "A value is trying to be set on a copy of a slice from a DataFrame.\n",
      "Try using .loc[row_indexer,col_indexer] = value instead\n",
      "\n",
      "See the caveats in the documentation: http://pandas.pydata.org/pandas-docs/stable/indexing.html#indexing-view-versus-copy\n",
      "  \n"
     ]
    }
   ],
   "source": [
    "to['CRSDepTime'] = to['CRSDepTime'].apply(pd.to_numeric, errors='raise')\n",
    "to['CRSArrTime'] = to['CRSArrTime'].apply(pd.to_numeric, errors='raise')"
   ]
  },
  {
   "cell_type": "markdown",
   "metadata": {},
   "source": [
    "[Important]\n",
    "\n",
    "For flights with an arriving time between 12:00am and 05:00am, add one day from the original datetime to make sure we assign the corresponding weather info to them. It is because the original date is the departure date which is the previous day of the arriving date."
   ]
  },
  {
   "cell_type": "code",
   "execution_count": 43,
   "metadata": {},
   "outputs": [],
   "source": [
    "to1 = to[to['CRSArrTime']>500]"
   ]
  },
  {
   "cell_type": "code",
   "execution_count": 44,
   "metadata": {},
   "outputs": [],
   "source": [
    "to2 = to[to['CRSArrTime']<500]"
   ]
  },
  {
   "cell_type": "code",
   "execution_count": 45,
   "metadata": {},
   "outputs": [
    {
     "name": "stderr",
     "output_type": "stream",
     "text": [
      "/Applications/anaconda3/lib/python3.6/site-packages/ipykernel_launcher.py:1: SettingWithCopyWarning: \n",
      "A value is trying to be set on a copy of a slice from a DataFrame.\n",
      "Try using .loc[row_indexer,col_indexer] = value instead\n",
      "\n",
      "See the caveats in the documentation: http://pandas.pydata.org/pandas-docs/stable/indexing.html#indexing-view-versus-copy\n",
      "  \"\"\"Entry point for launching an IPython kernel.\n"
     ]
    }
   ],
   "source": [
    "to2['DateTime'] = to2['DateTime'] + timedelta(days=1)"
   ]
  },
  {
   "cell_type": "code",
   "execution_count": 46,
   "metadata": {},
   "outputs": [],
   "source": [
    "to = pd.concat([to1, to2])\n",
    "to = to.sort_index()"
   ]
  },
  {
   "cell_type": "markdown",
   "metadata": {},
   "source": [
    "# Join "
   ]
  },
  {
   "cell_type": "markdown",
   "metadata": {},
   "source": [
    "Round-up the arriving time to every 5 minutes in order to join with weather data."
   ]
  },
  {
   "cell_type": "code",
   "execution_count": 47,
   "metadata": {},
   "outputs": [],
   "source": [
    "to['DateTime'] = to['DateTime'].apply(lambda x:x - timedelta(minutes=x.minute % 5))"
   ]
  },
  {
   "cell_type": "markdown",
   "metadata": {},
   "source": [
    "Join the flight operation data and weather data."
   ]
  },
  {
   "cell_type": "code",
   "execution_count": 48,
   "metadata": {},
   "outputs": [],
   "source": [
    "join = pd.merge(to, wx, left_on='DateTime', right_on='Date_Time', how='inner')\n",
    "join = join.rename(columns={'ArrDel15':'temp'})\n",
    "join['ArrDel15'] = join['temp']\n",
    "join = join.drop(['DateTime', 'Date_Time', 'temp'], axis=1)"
   ]
  },
  {
   "cell_type": "code",
   "execution_count": 51,
   "metadata": {},
   "outputs": [
    {
     "data": {
      "text/html": [
       "<div>\n",
       "<style>\n",
       "    .dataframe thead tr:only-child th {\n",
       "        text-align: right;\n",
       "    }\n",
       "\n",
       "    .dataframe thead th {\n",
       "        text-align: left;\n",
       "    }\n",
       "\n",
       "    .dataframe tbody tr th {\n",
       "        vertical-align: top;\n",
       "    }\n",
       "</style>\n",
       "<table border=\"1\" class=\"dataframe\">\n",
       "  <thead>\n",
       "    <tr style=\"text-align: right;\">\n",
       "      <th></th>\n",
       "      <th>Month</th>\n",
       "      <th>DayofMonth</th>\n",
       "      <th>DayOfWeek</th>\n",
       "      <th>AirlineID</th>\n",
       "      <th>TailNum</th>\n",
       "      <th>FlightNum</th>\n",
       "      <th>OriginAirportID</th>\n",
       "      <th>CRSDepTime</th>\n",
       "      <th>CRSArrTime</th>\n",
       "      <th>Distance</th>\n",
       "      <th>air_temp_set_1</th>\n",
       "      <th>dew_point_temperature_set_1d</th>\n",
       "      <th>wind_speed_set_1</th>\n",
       "      <th>wind_direction_set_1</th>\n",
       "      <th>cloud_layer_1_code_set_1</th>\n",
       "      <th>visibility_set_1</th>\n",
       "      <th>wind_gust_set_1</th>\n",
       "      <th>snow_depth_set_1</th>\n",
       "      <th>cloud_layer_2_code_set_1</th>\n",
       "      <th>cloud_layer_3_code_set_1</th>\n",
       "      <th>ceiling_set_1</th>\n",
       "      <th>Blowing Dust</th>\n",
       "      <th>Blowing Snow</th>\n",
       "      <th>Clear</th>\n",
       "      <th>Fog</th>\n",
       "      <th>Frz Rain</th>\n",
       "      <th>Hail</th>\n",
       "      <th>Haze</th>\n",
       "      <th>Heavy Rain</th>\n",
       "      <th>Heavy Rain/Thunderstorm</th>\n",
       "      <th>Heavy Snow</th>\n",
       "      <th>Ice Fog</th>\n",
       "      <th>Ice pellets</th>\n",
       "      <th>Light Frz Rain</th>\n",
       "      <th>Light Ice Pellets</th>\n",
       "      <th>Light Rain</th>\n",
       "      <th>Light Rain/Thunderstorm</th>\n",
       "      <th>Light Snow</th>\n",
       "      <th>Light Snow Pellets</th>\n",
       "      <th>Mostly Clear</th>\n",
       "      <th>Mostly Cloudy</th>\n",
       "      <th>Overcast</th>\n",
       "      <th>Partly Cloudy</th>\n",
       "      <th>Rain</th>\n",
       "      <th>Snow</th>\n",
       "      <th>Snow Pellets</th>\n",
       "      <th>Squalls</th>\n",
       "      <th>Thunder</th>\n",
       "      <th>Thunderstorm</th>\n",
       "      <th>Unknown Precip</th>\n",
       "      <th>Light Snow Shower</th>\n",
       "      <th>ArrDel15</th>\n",
       "    </tr>\n",
       "  </thead>\n",
       "  <tbody>\n",
       "    <tr>\n",
       "      <th>0</th>\n",
       "      <td>1</td>\n",
       "      <td>1</td>\n",
       "      <td>5</td>\n",
       "      <td>19805</td>\n",
       "      <td>954</td>\n",
       "      <td>79</td>\n",
       "      <td>11298</td>\n",
       "      <td>2230</td>\n",
       "      <td>20</td>\n",
       "      <td>989.0</td>\n",
       "      <td>14.00</td>\n",
       "      <td>4.85</td>\n",
       "      <td>2.99</td>\n",
       "      <td>290.0</td>\n",
       "      <td>1.0</td>\n",
       "      <td>10.0</td>\n",
       "      <td>0.0</td>\n",
       "      <td>0.0</td>\n",
       "      <td>1.0</td>\n",
       "      <td>1.0</td>\n",
       "      <td>50000.0</td>\n",
       "      <td>0</td>\n",
       "      <td>0</td>\n",
       "      <td>1</td>\n",
       "      <td>0</td>\n",
       "      <td>0</td>\n",
       "      <td>0</td>\n",
       "      <td>0</td>\n",
       "      <td>0</td>\n",
       "      <td>0</td>\n",
       "      <td>0</td>\n",
       "      <td>0</td>\n",
       "      <td>0</td>\n",
       "      <td>0</td>\n",
       "      <td>0</td>\n",
       "      <td>0</td>\n",
       "      <td>0</td>\n",
       "      <td>0</td>\n",
       "      <td>0</td>\n",
       "      <td>0</td>\n",
       "      <td>0</td>\n",
       "      <td>0</td>\n",
       "      <td>0</td>\n",
       "      <td>0</td>\n",
       "      <td>0</td>\n",
       "      <td>0</td>\n",
       "      <td>0</td>\n",
       "      <td>0</td>\n",
       "      <td>0</td>\n",
       "      <td>0</td>\n",
       "      <td>0</td>\n",
       "      <td>1.0</td>\n",
       "    </tr>\n",
       "    <tr>\n",
       "      <th>1</th>\n",
       "      <td>1</td>\n",
       "      <td>2</td>\n",
       "      <td>6</td>\n",
       "      <td>19805</td>\n",
       "      <td>789</td>\n",
       "      <td>79</td>\n",
       "      <td>11298</td>\n",
       "      <td>2230</td>\n",
       "      <td>20</td>\n",
       "      <td>989.0</td>\n",
       "      <td>19.94</td>\n",
       "      <td>10.79</td>\n",
       "      <td>0.00</td>\n",
       "      <td>0.0</td>\n",
       "      <td>1.0</td>\n",
       "      <td>10.0</td>\n",
       "      <td>0.0</td>\n",
       "      <td>0.0</td>\n",
       "      <td>1.0</td>\n",
       "      <td>1.0</td>\n",
       "      <td>50000.0</td>\n",
       "      <td>0</td>\n",
       "      <td>0</td>\n",
       "      <td>1</td>\n",
       "      <td>0</td>\n",
       "      <td>0</td>\n",
       "      <td>0</td>\n",
       "      <td>0</td>\n",
       "      <td>0</td>\n",
       "      <td>0</td>\n",
       "      <td>0</td>\n",
       "      <td>0</td>\n",
       "      <td>0</td>\n",
       "      <td>0</td>\n",
       "      <td>0</td>\n",
       "      <td>0</td>\n",
       "      <td>0</td>\n",
       "      <td>0</td>\n",
       "      <td>0</td>\n",
       "      <td>0</td>\n",
       "      <td>0</td>\n",
       "      <td>0</td>\n",
       "      <td>0</td>\n",
       "      <td>0</td>\n",
       "      <td>0</td>\n",
       "      <td>0</td>\n",
       "      <td>0</td>\n",
       "      <td>0</td>\n",
       "      <td>0</td>\n",
       "      <td>0</td>\n",
       "      <td>0</td>\n",
       "      <td>1.0</td>\n",
       "    </tr>\n",
       "    <tr>\n",
       "      <th>2</th>\n",
       "      <td>1</td>\n",
       "      <td>3</td>\n",
       "      <td>7</td>\n",
       "      <td>19805</td>\n",
       "      <td>879</td>\n",
       "      <td>79</td>\n",
       "      <td>11298</td>\n",
       "      <td>2230</td>\n",
       "      <td>20</td>\n",
       "      <td>989.0</td>\n",
       "      <td>24.98</td>\n",
       "      <td>17.84</td>\n",
       "      <td>4.00</td>\n",
       "      <td>340.0</td>\n",
       "      <td>1.0</td>\n",
       "      <td>8.0</td>\n",
       "      <td>0.0</td>\n",
       "      <td>0.0</td>\n",
       "      <td>1.0</td>\n",
       "      <td>1.0</td>\n",
       "      <td>50000.0</td>\n",
       "      <td>0</td>\n",
       "      <td>0</td>\n",
       "      <td>1</td>\n",
       "      <td>0</td>\n",
       "      <td>0</td>\n",
       "      <td>0</td>\n",
       "      <td>0</td>\n",
       "      <td>0</td>\n",
       "      <td>0</td>\n",
       "      <td>0</td>\n",
       "      <td>0</td>\n",
       "      <td>0</td>\n",
       "      <td>0</td>\n",
       "      <td>0</td>\n",
       "      <td>0</td>\n",
       "      <td>0</td>\n",
       "      <td>0</td>\n",
       "      <td>0</td>\n",
       "      <td>0</td>\n",
       "      <td>0</td>\n",
       "      <td>0</td>\n",
       "      <td>0</td>\n",
       "      <td>0</td>\n",
       "      <td>0</td>\n",
       "      <td>0</td>\n",
       "      <td>0</td>\n",
       "      <td>0</td>\n",
       "      <td>0</td>\n",
       "      <td>0</td>\n",
       "      <td>0</td>\n",
       "      <td>1.0</td>\n",
       "    </tr>\n",
       "    <tr>\n",
       "      <th>3</th>\n",
       "      <td>1</td>\n",
       "      <td>4</td>\n",
       "      <td>1</td>\n",
       "      <td>19805</td>\n",
       "      <td>920</td>\n",
       "      <td>79</td>\n",
       "      <td>11298</td>\n",
       "      <td>2230</td>\n",
       "      <td>20</td>\n",
       "      <td>989.0</td>\n",
       "      <td>28.04</td>\n",
       "      <td>21.82</td>\n",
       "      <td>0.00</td>\n",
       "      <td>0.0</td>\n",
       "      <td>652.0</td>\n",
       "      <td>5.0</td>\n",
       "      <td>0.0</td>\n",
       "      <td>0.0</td>\n",
       "      <td>804.0</td>\n",
       "      <td>1.0</td>\n",
       "      <td>8000.0</td>\n",
       "      <td>0</td>\n",
       "      <td>0</td>\n",
       "      <td>0</td>\n",
       "      <td>0</td>\n",
       "      <td>0</td>\n",
       "      <td>0</td>\n",
       "      <td>1</td>\n",
       "      <td>0</td>\n",
       "      <td>0</td>\n",
       "      <td>0</td>\n",
       "      <td>0</td>\n",
       "      <td>0</td>\n",
       "      <td>0</td>\n",
       "      <td>0</td>\n",
       "      <td>0</td>\n",
       "      <td>0</td>\n",
       "      <td>0</td>\n",
       "      <td>0</td>\n",
       "      <td>0</td>\n",
       "      <td>0</td>\n",
       "      <td>0</td>\n",
       "      <td>0</td>\n",
       "      <td>0</td>\n",
       "      <td>0</td>\n",
       "      <td>0</td>\n",
       "      <td>0</td>\n",
       "      <td>0</td>\n",
       "      <td>0</td>\n",
       "      <td>0</td>\n",
       "      <td>0</td>\n",
       "      <td>0.0</td>\n",
       "    </tr>\n",
       "    <tr>\n",
       "      <th>4</th>\n",
       "      <td>1</td>\n",
       "      <td>4</td>\n",
       "      <td>1</td>\n",
       "      <td>19393</td>\n",
       "      <td>1124</td>\n",
       "      <td>883</td>\n",
       "      <td>13796</td>\n",
       "      <td>2145</td>\n",
       "      <td>20</td>\n",
       "      <td>588.0</td>\n",
       "      <td>28.04</td>\n",
       "      <td>21.82</td>\n",
       "      <td>0.00</td>\n",
       "      <td>0.0</td>\n",
       "      <td>652.0</td>\n",
       "      <td>5.0</td>\n",
       "      <td>0.0</td>\n",
       "      <td>0.0</td>\n",
       "      <td>804.0</td>\n",
       "      <td>1.0</td>\n",
       "      <td>8000.0</td>\n",
       "      <td>0</td>\n",
       "      <td>0</td>\n",
       "      <td>0</td>\n",
       "      <td>0</td>\n",
       "      <td>0</td>\n",
       "      <td>0</td>\n",
       "      <td>1</td>\n",
       "      <td>0</td>\n",
       "      <td>0</td>\n",
       "      <td>0</td>\n",
       "      <td>0</td>\n",
       "      <td>0</td>\n",
       "      <td>0</td>\n",
       "      <td>0</td>\n",
       "      <td>0</td>\n",
       "      <td>0</td>\n",
       "      <td>0</td>\n",
       "      <td>0</td>\n",
       "      <td>0</td>\n",
       "      <td>0</td>\n",
       "      <td>0</td>\n",
       "      <td>0</td>\n",
       "      <td>0</td>\n",
       "      <td>0</td>\n",
       "      <td>0</td>\n",
       "      <td>0</td>\n",
       "      <td>0</td>\n",
       "      <td>0</td>\n",
       "      <td>0</td>\n",
       "      <td>0</td>\n",
       "      <td>0.0</td>\n",
       "    </tr>\n",
       "  </tbody>\n",
       "</table>\n",
       "</div>"
      ],
      "text/plain": [
       "   Month  DayofMonth  DayOfWeek  AirlineID  TailNum  FlightNum  \\\n",
       "0      1           1          5      19805      954         79   \n",
       "1      1           2          6      19805      789         79   \n",
       "2      1           3          7      19805      879         79   \n",
       "3      1           4          1      19805      920         79   \n",
       "4      1           4          1      19393     1124        883   \n",
       "\n",
       "   OriginAirportID  CRSDepTime  CRSArrTime  Distance  air_temp_set_1  \\\n",
       "0            11298        2230          20     989.0           14.00   \n",
       "1            11298        2230          20     989.0           19.94   \n",
       "2            11298        2230          20     989.0           24.98   \n",
       "3            11298        2230          20     989.0           28.04   \n",
       "4            13796        2145          20     588.0           28.04   \n",
       "\n",
       "   dew_point_temperature_set_1d  wind_speed_set_1  wind_direction_set_1  \\\n",
       "0                          4.85              2.99                 290.0   \n",
       "1                         10.79              0.00                   0.0   \n",
       "2                         17.84              4.00                 340.0   \n",
       "3                         21.82              0.00                   0.0   \n",
       "4                         21.82              0.00                   0.0   \n",
       "\n",
       "   cloud_layer_1_code_set_1  visibility_set_1  wind_gust_set_1  \\\n",
       "0                       1.0              10.0              0.0   \n",
       "1                       1.0              10.0              0.0   \n",
       "2                       1.0               8.0              0.0   \n",
       "3                     652.0               5.0              0.0   \n",
       "4                     652.0               5.0              0.0   \n",
       "\n",
       "   snow_depth_set_1  cloud_layer_2_code_set_1  cloud_layer_3_code_set_1  \\\n",
       "0               0.0                       1.0                       1.0   \n",
       "1               0.0                       1.0                       1.0   \n",
       "2               0.0                       1.0                       1.0   \n",
       "3               0.0                     804.0                       1.0   \n",
       "4               0.0                     804.0                       1.0   \n",
       "\n",
       "   ceiling_set_1  Blowing Dust  Blowing Snow  Clear  Fog  Frz Rain  Hail  \\\n",
       "0        50000.0             0             0      1    0         0     0   \n",
       "1        50000.0             0             0      1    0         0     0   \n",
       "2        50000.0             0             0      1    0         0     0   \n",
       "3         8000.0             0             0      0    0         0     0   \n",
       "4         8000.0             0             0      0    0         0     0   \n",
       "\n",
       "   Haze  Heavy Rain  Heavy Rain/Thunderstorm  Heavy Snow  Ice Fog  \\\n",
       "0     0           0                        0           0        0   \n",
       "1     0           0                        0           0        0   \n",
       "2     0           0                        0           0        0   \n",
       "3     1           0                        0           0        0   \n",
       "4     1           0                        0           0        0   \n",
       "\n",
       "   Ice pellets  Light Frz Rain  Light Ice Pellets  Light Rain  \\\n",
       "0            0               0                  0           0   \n",
       "1            0               0                  0           0   \n",
       "2            0               0                  0           0   \n",
       "3            0               0                  0           0   \n",
       "4            0               0                  0           0   \n",
       "\n",
       "   Light Rain/Thunderstorm  Light Snow  Light Snow Pellets  Mostly Clear  \\\n",
       "0                        0           0                   0             0   \n",
       "1                        0           0                   0             0   \n",
       "2                        0           0                   0             0   \n",
       "3                        0           0                   0             0   \n",
       "4                        0           0                   0             0   \n",
       "\n",
       "   Mostly Cloudy  Overcast  Partly Cloudy  Rain  Snow  Snow Pellets  Squalls  \\\n",
       "0              0         0              0     0     0             0        0   \n",
       "1              0         0              0     0     0             0        0   \n",
       "2              0         0              0     0     0             0        0   \n",
       "3              0         0              0     0     0             0        0   \n",
       "4              0         0              0     0     0             0        0   \n",
       "\n",
       "   Thunder  Thunderstorm  Unknown Precip  Light Snow Shower  ArrDel15  \n",
       "0        0             0               0                  0       1.0  \n",
       "1        0             0               0                  0       1.0  \n",
       "2        0             0               0                  0       1.0  \n",
       "3        0             0               0                  0       0.0  \n",
       "4        0             0               0                  0       0.0  "
      ]
     },
     "execution_count": 51,
     "metadata": {},
     "output_type": "execute_result"
    }
   ],
   "source": [
    "join.head()"
   ]
  },
  {
   "cell_type": "markdown",
   "metadata": {},
   "source": [
    "# Prediction"
   ]
  },
  {
   "cell_type": "code",
   "execution_count": 55,
   "metadata": {},
   "outputs": [],
   "source": [
    "total = join.as_matrix()"
   ]
  },
  {
   "cell_type": "code",
   "execution_count": 57,
   "metadata": {
    "collapsed": true
   },
   "outputs": [],
   "source": [
    "X = total[:,:-1]\n",
    "y = total[:,-1]"
   ]
  },
  {
   "cell_type": "code",
   "execution_count": 59,
   "metadata": {
    "collapsed": true
   },
   "outputs": [],
   "source": [
    "trainX, testX, trainy, testy = model_selection.train_test_split(X, y, test_size=0.2)"
   ]
  },
  {
   "cell_type": "code",
   "execution_count": 61,
   "metadata": {
    "collapsed": true
   },
   "outputs": [],
   "source": [
    "from sklearn.tree import DecisionTreeClassifier"
   ]
  },
  {
   "cell_type": "code",
   "execution_count": 229,
   "metadata": {},
   "outputs": [],
   "source": [
    "dtc = DecisionTreeClassifier(max_depth=4)\n",
    "predy = dtc.fit(trainX, trainy).predict(testX)"
   ]
  },
  {
   "cell_type": "code",
   "execution_count": 230,
   "metadata": {},
   "outputs": [
    {
     "name": "stdout",
     "output_type": "stream",
     "text": [
      "Accuracy: 0.87340\n"
     ]
    }
   ],
   "source": [
    "print('Accuracy: {0:.5f}'.format((predy==testy).sum() / testy.size))"
   ]
  },
  {
   "cell_type": "code",
   "execution_count": 140,
   "metadata": {
    "collapsed": true
   },
   "outputs": [],
   "source": [
    "from sklearn.ensemble import RandomForestClassifier"
   ]
  },
  {
   "cell_type": "code",
   "execution_count": 231,
   "metadata": {},
   "outputs": [],
   "source": [
    "rfc = RandomForestClassifier(n_estimators=30, max_depth=20)\n",
    "predy = rfc.fit(trainX, trainy).predict(testX)"
   ]
  },
  {
   "cell_type": "code",
   "execution_count": 232,
   "metadata": {},
   "outputs": [
    {
     "name": "stdout",
     "output_type": "stream",
     "text": [
      "Accuracy: 0.87559\n"
     ]
    }
   ],
   "source": [
    "print('Accuracy: {0:.5f}'.format((predy==testy).sum() / testy.size))"
   ]
  },
  {
   "cell_type": "code",
   "execution_count": 237,
   "metadata": {},
   "outputs": [],
   "source": [
    "from sklearn.linear_model import Perceptron"
   ]
  },
  {
   "cell_type": "code",
   "execution_count": 264,
   "metadata": {},
   "outputs": [
    {
     "name": "stderr",
     "output_type": "stream",
     "text": [
      "/Applications/anaconda3/lib/python3.6/site-packages/sklearn/linear_model/stochastic_gradient.py:128: FutureWarning: max_iter and tol parameters have been added in <class 'sklearn.linear_model.perceptron.Perceptron'> in 0.19. If both are left unset, they default to max_iter=5 and tol=None. If tol is not None, max_iter defaults to max_iter=1000. From 0.21, default max_iter will be 1000, and default tol will be 1e-3.\n",
      "  \"and default tol will be 1e-3.\" % type(self), FutureWarning)\n"
     ]
    }
   ],
   "source": [
    "perc = Perceptron()\n",
    "predy = perc.fit(trainX, trainy).predict(testX)"
   ]
  },
  {
   "cell_type": "code",
   "execution_count": 265,
   "metadata": {},
   "outputs": [
    {
     "name": "stdout",
     "output_type": "stream",
     "text": [
      "Accuracy: 0.87303\n"
     ]
    }
   ],
   "source": [
    "print('Accuracy: {0:.5f}'.format((predy==testy).sum() / testy.size))"
   ]
  },
  {
   "cell_type": "code",
   "execution_count": 276,
   "metadata": {
    "collapsed": true
   },
   "outputs": [],
   "source": [
    "from sklearn.naive_bayes import GaussianNB"
   ]
  },
  {
   "cell_type": "code",
   "execution_count": 277,
   "metadata": {},
   "outputs": [],
   "source": [
    "gnb = GaussianNB()\n",
    "predy = gnb.fit(trainX, trainy).predict(testX)"
   ]
  },
  {
   "cell_type": "code",
   "execution_count": 278,
   "metadata": {},
   "outputs": [
    {
     "name": "stdout",
     "output_type": "stream",
     "text": [
      "Accuracy: 0.82578\n"
     ]
    }
   ],
   "source": [
    "print('Accuracy: {0:.5f}'.format((predy==testy).sum() / testy.size))"
   ]
  },
  {
   "cell_type": "code",
   "execution_count": 287,
   "metadata": {
    "collapsed": true
   },
   "outputs": [],
   "source": [
    "from sklearn.neural_network import MLPClassifier"
   ]
  },
  {
   "cell_type": "code",
   "execution_count": 288,
   "metadata": {
    "collapsed": true
   },
   "outputs": [],
   "source": [
    "mlpc = MLPClassifier()\n",
    "predy = mlpc.fit(trainX, trainy).predict(testX)"
   ]
  },
  {
   "cell_type": "code",
   "execution_count": 289,
   "metadata": {},
   "outputs": [
    {
     "name": "stdout",
     "output_type": "stream",
     "text": [
      "Accuracy: 0.87303\n"
     ]
    }
   ],
   "source": [
    "print('Accuracy: {0:.5f}'.format((predy==testy).sum() / testy.size))"
   ]
  },
  {
   "cell_type": "code",
   "execution_count": null,
   "metadata": {
    "collapsed": true
   },
   "outputs": [],
   "source": []
  }
 ],
 "metadata": {
  "kernelspec": {
   "display_name": "Python 3",
   "language": "python",
   "name": "python3"
  },
  "language_info": {
   "codemirror_mode": {
    "name": "ipython",
    "version": 3
   },
   "file_extension": ".py",
   "mimetype": "text/x-python",
   "name": "python",
   "nbconvert_exporter": "python",
   "pygments_lexer": "ipython3",
   "version": "3.6.3"
  }
 },
 "nbformat": 4,
 "nbformat_minor": 2
}
